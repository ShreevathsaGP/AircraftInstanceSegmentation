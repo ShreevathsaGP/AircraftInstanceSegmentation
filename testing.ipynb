{
  "cells": [
    {
      "cell_type": "markdown",
      "metadata": {
        "id": "IWQfu7Ey9JJ-"
      },
      "source": [
        "## INSTALL REQUIRED LIBRARIES"
      ]
    },
    {
      "cell_type": "code",
      "execution_count": null,
      "metadata": {
        "id": "HURgYB7o9MbX"
      },
      "outputs": [],
      "source": [
        "!pip install ultralytics"
      ]
    },
    {
      "cell_type": "markdown",
      "metadata": {
        "id": "Ch42yc9NarnZ"
      },
      "source": [
        "## MOUNT DRIVE"
      ]
    },
    {
      "cell_type": "code",
      "execution_count": null,
      "metadata": {
        "id": "26DjdzU4a3Zo"
      },
      "outputs": [],
      "source": [
        "from google.colab import drive\n",
        "drive.mount('/content/drive')"
      ]
    },
    {
      "cell_type": "markdown",
      "metadata": {
        "id": "L5G66_QLzCkW"
      },
      "source": [
        "## DOWNLOAD INPUT IMAGE"
      ]
    },
    {
      "cell_type": "code",
      "execution_count": null,
      "metadata": {
        "id": "gMajUdfCzHe2"
      },
      "outputs": [],
      "source": [
        "import os\n",
        "import cv2\n",
        "import urllib.request"
      ]
    },
    {
      "cell_type": "code",
      "execution_count": null,
      "metadata": {
        "id": "NEJQk0ej1O4P"
      },
      "outputs": [],
      "source": [
        "image_url = \"https://cdn.shopify.com/s/files/1/0360/4209/t/49/assets/spiti19a-1690339697064.jpg?v=1690339698\""
      ]
    },
    {
      "cell_type": "code",
      "execution_count": null,
      "metadata": {
        "id": "Bb7Uo8dgxW_7"
      },
      "outputs": [],
      "source": [
        "image_path = \"/content/input_image.png\" if \"png\" in image_url else \"/content/input_image.jpg\"\n",
        "urllib.request.urlretrieve(image_url, image_path)"
      ]
    },
    {
      "cell_type": "code",
      "execution_count": null,
      "metadata": {
        "id": "LCwKm7NbzLLi"
      },
      "outputs": [],
      "source": [
        "input_image = cv2.imread(image_path)\n",
        "H, W, _ = input_image.shape"
      ]
    },
    {
      "cell_type": "markdown",
      "metadata": {
        "id": "BnlGoFpazRkm"
      },
      "source": [
        "## PERFORM PREDICTION"
      ]
    },
    {
      "cell_type": "code",
      "execution_count": null,
      "metadata": {
        "id": "WsBNTA9QzTcY"
      },
      "outputs": [],
      "source": [
        "from ultralytics import YOLO\n",
        "import numpy as np"
      ]
    },
    {
      "cell_type": "code",
      "execution_count": null,
      "metadata": {
        "id": "QYz7tnX80EyE"
      },
      "outputs": [],
      "source": [
        "output_path = \"/content/output_image.png\""
      ]
    },
    {
      "cell_type": "code",
      "execution_count": null,
      "metadata": {
        "id": "S2MSX6LfzY3j"
      },
      "outputs": [],
      "source": [
        "model_path = \"/content/drive/MyDrive/aircraft_training_results/training_1/weights/best.pt\"\n",
        "model = YOLO(model_path)"
      ]
    },
    {
      "cell_type": "code",
      "execution_count": null,
      "metadata": {
        "id": "YxDh83cu0g1I"
      },
      "outputs": [],
      "source": [
        "results = model(input_image)"
      ]
    },
    {
      "cell_type": "code",
      "execution_count": null,
      "metadata": {
        "id": "N6BU-yuI07Sf"
      },
      "outputs": [],
      "source": [
        "colors = [(0, 255, 255),\n",
        "          (255, 0, 0),\n",
        "          (0, 255, 0),\n",
        "          (0, 0, 255),\n",
        "          (255, 0, 255)]"
      ]
    },
    {
      "cell_type": "code",
      "execution_count": null,
      "metadata": {
        "id": "looc1b-Y0j6V"
      },
      "outputs": [],
      "source": [
        "overlayed_img = input_image.copy()\n",
        "\n",
        "for result in results:\n",
        "    for j, mask in enumerate(result.masks.data[:6]):\n",
        "        mask = mask.cpu().numpy() * 255\n",
        "        mask = cv2.resize(mask, (W, H))\n",
        "\n",
        "        # create coloured mask\n",
        "        color_mask = np.zeros_like(input_image)\n",
        "        for i in range(3):\n",
        "            color_mask[:, :, i] = mask * (colors[j][i] / 255.0)\n",
        "\n",
        "        # overlay coloured mask on original\n",
        "        overlayed_img = cv2.addWeighted(overlayed_img, 1.0, color_mask, 0.5, 0)"
      ]
    },
    {
      "cell_type": "code",
      "execution_count": null,
      "metadata": {
        "id": "bEdHExTA1d3e"
      },
      "outputs": [],
      "source": [
        "cv2.imwrite(output_path, overlayed_img)"
      ]
    }
  ],
  "metadata": {
    "accelerator": "GPU",
    "colab": {
      "gpuType": "T4",
      "provenance": []
    },
    "kernelspec": {
      "display_name": "Python 3",
      "name": "python3"
    },
    "language_info": {
      "name": "python"
    }
  },
  "nbformat": 4,
  "nbformat_minor": 0
}
