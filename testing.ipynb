{
  "nbformat": 4,
  "nbformat_minor": 0,
  "metadata": {
    "colab": {
      "provenance": [],
      "gpuType": "T4"
    },
    "kernelspec": {
      "name": "python3",
      "display_name": "Python 3"
    },
    "language_info": {
      "name": "python"
    },
    "accelerator": "GPU"
  },
  "cells": [
    {
      "cell_type": "markdown",
      "source": [
        "## INSTALL REQUIRED LIBRARIES"
      ],
      "metadata": {
        "id": "IWQfu7Ey9JJ-"
      }
    },
    {
      "cell_type": "code",
      "source": [
        "!pip install ultralytics"
      ],
      "metadata": {
        "id": "HURgYB7o9MbX"
      },
      "execution_count": null,
      "outputs": []
    },
    {
      "cell_type": "markdown",
      "source": [
        "## MOUNT DRIVE"
      ],
      "metadata": {
        "id": "Ch42yc9NarnZ"
      }
    },
    {
      "cell_type": "code",
      "source": [
        "from google.colab import drive\n",
        "drive.mount('/content/drive')"
      ],
      "metadata": {
        "id": "26DjdzU4a3Zo"
      },
      "execution_count": null,
      "outputs": []
    },
    {
      "cell_type": "markdown",
      "source": [
        "## DOWNLOAD INPUT IMAGE"
      ],
      "metadata": {
        "id": "L5G66_QLzCkW"
      }
    },
    {
      "cell_type": "code",
      "source": [
        "import os\n",
        "import cv2\n",
        "import urllib.request"
      ],
      "metadata": {
        "id": "gMajUdfCzHe2"
      },
      "execution_count": null,
      "outputs": []
    },
    {
      "cell_type": "code",
      "source": [
        "image_url = \"https://cdn.shopify.com/s/files/1/0360/4209/t/49/assets/spiti19a-1690339697064.jpg?v=1690339698\""
      ],
      "metadata": {
        "id": "NEJQk0ej1O4P"
      },
      "execution_count": null,
      "outputs": []
    },
    {
      "cell_type": "code",
      "source": [
        "image_path = \"/content/input_image.png\" if \"png\" in image_url else \"/content/input_image.jpg\"\n",
        "urllib.request.urlretrieve(image_url, image_path)"
      ],
      "metadata": {
        "id": "Bb7Uo8dgxW_7"
      },
      "execution_count": null,
      "outputs": []
    },
    {
      "cell_type": "code",
      "source": [
        "input_image = cv2.imread(image_path)\n",
        "H, W, _ = input_image.shape"
      ],
      "metadata": {
        "id": "LCwKm7NbzLLi"
      },
      "execution_count": null,
      "outputs": []
    },
    {
      "cell_type": "markdown",
      "source": [
        "## PERFORM PREDICTION"
      ],
      "metadata": {
        "id": "BnlGoFpazRkm"
      }
    },
    {
      "cell_type": "code",
      "source": [
        "from ultralytics import YOLO\n",
        "import numpy as np"
      ],
      "metadata": {
        "id": "WsBNTA9QzTcY"
      },
      "execution_count": null,
      "outputs": []
    },
    {
      "cell_type": "code",
      "source": [
        "output_path = \"/content/output_image.png\""
      ],
      "metadata": {
        "id": "QYz7tnX80EyE"
      },
      "execution_count": null,
      "outputs": []
    },
    {
      "cell_type": "code",
      "source": [
        "model_path = \"/content/drive/MyDrive/aircraft_training_results/training_1/weights/best.pt\"\n",
        "model = YOLO(model_path)"
      ],
      "metadata": {
        "id": "S2MSX6LfzY3j"
      },
      "execution_count": null,
      "outputs": []
    },
    {
      "cell_type": "code",
      "source": [
        "results = model(input_image)"
      ],
      "metadata": {
        "id": "YxDh83cu0g1I"
      },
      "execution_count": null,
      "outputs": []
    },
    {
      "cell_type": "code",
      "source": [
        "colors = [ (0, 255, 255),\n",
        "          (255, 0, 0),\n",
        "          (0, 255, 0),\n",
        "          (0, 0, 255),\n",
        "          (255, 0, 255)]"
      ],
      "metadata": {
        "id": "N6BU-yuI07Sf"
      },
      "execution_count": null,
      "outputs": []
    },
    {
      "cell_type": "code",
      "source": [
        "overlayed_img = input_image.copy()\n",
        "\n",
        "for result in results:\n",
        "    for j, mask in enumerate(result.masks.data[:6]):  # Only process the first 3 masks\n",
        "        mask = mask.cpu().numpy() * 255\n",
        "        mask = cv2.resize(mask, (W, H))\n",
        "\n",
        "        # Create a color mask\n",
        "        color_mask = np.zeros_like(input_image)\n",
        "        for i in range(3):\n",
        "            color_mask[:, :, i] = mask * (colors[j][i] / 255.0)\n",
        "\n",
        "        # Overlay color mask on the original image\n",
        "        overlayed_img = cv2.addWeighted(overlayed_img, 1.0, color_mask, 0.5, 0)"
      ],
      "metadata": {
        "id": "looc1b-Y0j6V"
      },
      "execution_count": null,
      "outputs": []
    },
    {
      "cell_type": "code",
      "source": [
        "cv2.imwrite(output_path, overlayed_img)"
      ],
      "metadata": {
        "id": "bEdHExTA1d3e"
      },
      "execution_count": null,
      "outputs": []
    }
  ]
}