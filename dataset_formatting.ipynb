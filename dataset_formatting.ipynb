{
  "nbformat": 4,
  "nbformat_minor": 0,
  "metadata": {
    "colab": {
      "provenance": []
    },
    "kernelspec": {
      "name": "python3",
      "display_name": "Python 3"
    },
    "language_info": {
      "name": "python"
    }
  },
  "cells": [
    {
      "cell_type": "markdown",
      "source": [
        "#### The main purpose of this notebook is to convert the generated grey-scale masks into polygon labels that YOLO v8 needs."
      ],
      "metadata": {
        "id": "12kNjhFgafnW"
      }
    },
    {
      "cell_type": "markdown",
      "source": [
        "## MOUNT DRIVE"
      ],
      "metadata": {
        "id": "Ch42yc9NarnZ"
      }
    },
    {
      "cell_type": "code",
      "source": [
        "import os"
      ],
      "metadata": {
        "id": "P4RnHkB7uZcp"
      },
      "execution_count": null,
      "outputs": []
    },
    {
      "cell_type": "code",
      "source": [
        "from google.colab import drive\n",
        "drive.mount('/content/drive')"
      ],
      "metadata": {
        "id": "26DjdzU4a3Zo"
      },
      "execution_count": null,
      "outputs": []
    },
    {
      "cell_type": "code",
      "source": [
        "mask_dir = '/content/drive/MyDrive/aircraft_export_2/masks/'\n",
        "label_dir = '/content/labels/'"
      ],
      "metadata": {
        "id": "o01GtwI1a7-q"
      },
      "execution_count": null,
      "outputs": []
    },
    {
      "cell_type": "code",
      "source": [
        "for split in [\"train\", \"test\"]:\n",
        "    os.makedirs(os.path.join(label_dir, split), exist_ok = True)"
      ],
      "metadata": {
        "id": "_dQlHwS2u_zN"
      },
      "execution_count": null,
      "outputs": []
    },
    {
      "cell_type": "code",
      "source": [
        "for split in [\"train\", \"test\"]:\n",
        "    print(f\"{os.path.basename(mask_dir)}/{split}:\", len(os.listdir(os.path.join(mask_dir, split))))"
      ],
      "metadata": {
        "id": "67ZPd-lBuHHT"
      },
      "execution_count": null,
      "outputs": []
    },
    {
      "cell_type": "markdown",
      "source": [
        "## REFORMAT MASKS INTO POLYGON LABELS"
      ],
      "metadata": {
        "id": "ZwZLsdWybbo7"
      }
    },
    {
      "cell_type": "code",
      "source": [
        "import cv2"
      ],
      "metadata": {
        "id": "1ID-P_JPbj1w"
      },
      "execution_count": null,
      "outputs": []
    },
    {
      "cell_type": "code",
      "source": [
        "for split in [\"train\", \"test\"]:\n",
        "    for j in os.listdir(os.path.join(mask_dir, split)):\n",
        "        image_path = os.path.join(mask_dir, split, j)\n",
        "\n",
        "        # load binary mask and get its contours\n",
        "        mask = cv2.imread(image_path, cv2.IMREAD_GRAYSCALE)\n",
        "        _, mask = cv2.threshold(mask, 1, 255, cv2.THRESH_BINARY)\n",
        "\n",
        "        H, W = mask.shape\n",
        "        contours, hierarchy = cv2.findContours(mask, cv2.RETR_EXTERNAL, cv2.CHAIN_APPROX_SIMPLE)\n",
        "\n",
        "        # convert contours to polygons\n",
        "        polygons = []\n",
        "        for cnt in contours:\n",
        "            if cv2.contourArea(cnt) > 200:\n",
        "                polygon = []\n",
        "                for point in cnt:\n",
        "                    x, y = point[0]\n",
        "                    polygon.append(x / W)\n",
        "                    polygon.append(y / H)\n",
        "                polygons.append(polygon)\n",
        "\n",
        "        # print the polygons\n",
        "        with open('{}.txt'.format(os.path.join(label_dir, split, j)[:-4]), 'w') as f:\n",
        "            for polygon in polygons:\n",
        "                for p_, p in enumerate(polygon):\n",
        "                    if p_ == len(polygon) - 1:\n",
        "                        f.write('{}\\n'.format(p))\n",
        "                    elif p_ == 0:\n",
        "                        f.write('0 {} '.format(p))\n",
        "                    else:\n",
        "                        f.write('{} '.format(p))\n",
        "\n",
        "            f.close()\n",
        "\n",
        "# [https://github.com/computervisioneng/image-segmentation-yolov8/blob/main/masks_to_polygons.py]"
      ],
      "metadata": {
        "id": "CBlTi85UbSgP"
      },
      "execution_count": null,
      "outputs": []
    },
    {
      "cell_type": "code",
      "source": [
        "!scp -r /content/labels \"/content/drive/MyDrive/labels_2\""
      ],
      "metadata": {
        "id": "6z3bFda_u0ad"
      },
      "execution_count": null,
      "outputs": []
    }
  ]
}