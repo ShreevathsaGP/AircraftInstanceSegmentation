{
  "nbformat": 4,
  "nbformat_minor": 0,
  "metadata": {
    "colab": {
      "provenance": [],
      "gpuType": "T4",
      "collapsed_sections": [
        "QVT9E-9TShuP"
      ]
    },
    "kernelspec": {
      "name": "python3",
      "display_name": "Python 3"
    },
    "language_info": {
      "name": "python"
    }
  },
  "cells": [
    {
      "cell_type": "markdown",
      "source": [
        "## INSTALL REQUIRED LIBRARIES"
      ],
      "metadata": {
        "id": "MD8CrWE1UlJY"
      }
    },
    {
      "cell_type": "code",
      "source": [
        "!pip install fiftyone"
      ],
      "metadata": {
        "collapsed": true,
        "id": "R7GCnmDeUsE0"
      },
      "execution_count": null,
      "outputs": []
    },
    {
      "cell_type": "markdown",
      "source": [
        "## LOAD DATASET"
      ],
      "metadata": {
        "id": "IkCnGgjkQaDt"
      }
    },
    {
      "cell_type": "code",
      "source": [
        "import os\n",
        "import shutil\n",
        "import fiftyone as fo\n",
        "import fiftyone.zoo as foz"
      ],
      "metadata": {
        "id": "k3l7KJehV_6t"
      },
      "execution_count": null,
      "outputs": []
    },
    {
      "cell_type": "code",
      "source": [
        "DATASET_SIZE = 10000\n",
        "TEST_SPLIT = 0.1\n",
        "TRAIN_SPLIT = 1 - TEST_SPLIT"
      ],
      "metadata": {
        "id": "Mkn3ujxTLAZD"
      },
      "execution_count": null,
      "outputs": []
    },
    {
      "cell_type": "code",
      "source": [
        "# define the storage path\n",
        "storage_path = \"/content/aircraft_data\"\n",
        "\n",
        "# specify the dataset name and labels\n",
        "dataset_name = \"open-images-v7\"\n",
        "label_types = [\"segmentations\"]\n",
        "classes = [\"Airplane\"]"
      ],
      "metadata": {
        "id": "kvotLewonmVM"
      },
      "execution_count": null,
      "outputs": []
    },
    {
      "cell_type": "code",
      "source": [
        "# load the dataset\n",
        "dataset = foz.load_zoo_dataset(\n",
        "    dataset_name,\n",
        "    split = \"train\",\n",
        "    label_types = label_types,\n",
        "    classes = classes,\n",
        "    max_samples = DATASET_SIZE,\n",
        "    dataset_dir = storage_path,\n",
        ")"
      ],
      "metadata": {
        "id": "V5faiq1Snpf6"
      },
      "execution_count": null,
      "outputs": []
    },
    {
      "cell_type": "markdown",
      "source": [
        "## INSPECT DATASET"
      ],
      "metadata": {
        "id": "QVT9E-9TShuP"
      }
    },
    {
      "cell_type": "code",
      "source": [
        "print(dataset.get_field_schema())"
      ],
      "metadata": {
        "id": "5WuuUOPH9fDS"
      },
      "execution_count": null,
      "outputs": []
    },
    {
      "cell_type": "code",
      "source": [
        "print(dataset.default_classes)"
      ],
      "metadata": {
        "id": "noYXC4ECAi8j"
      },
      "execution_count": null,
      "outputs": []
    },
    {
      "cell_type": "code",
      "source": [
        "sample = dataset.first()\n",
        "print(sample)"
      ],
      "metadata": {
        "id": "16cy1ge1AwDp"
      },
      "execution_count": null,
      "outputs": []
    },
    {
      "cell_type": "code",
      "source": [
        "print(dataset)"
      ],
      "metadata": {
        "id": "1z1HJDYRoAqW"
      },
      "execution_count": null,
      "outputs": []
    },
    {
      "cell_type": "markdown",
      "source": [
        "## EXPORT IMAGES & MASKS"
      ],
      "metadata": {
        "id": "p5h-t8heSnRR"
      }
    },
    {
      "cell_type": "code",
      "source": [
        "import cv2\n",
        "import numpy as np\n",
        "from skimage import measure"
      ],
      "metadata": {
        "id": "miHDQBchTwUF"
      },
      "execution_count": null,
      "outputs": []
    },
    {
      "cell_type": "code",
      "source": [
        "# export the dataset\n",
        "export_dir = \"/content/aircraft_export\"\n",
        "\n",
        "image_dir = os.path.join(export_dir, \"images\")\n",
        "label_dir = os.path.join(export_dir, \"labels\")\n",
        "mask_dir = os.path.join(export_dir, \"masks\")\n"
      ],
      "metadata": {
        "id": "z0bX9_F1oG8m"
      },
      "execution_count": null,
      "outputs": []
    },
    {
      "cell_type": "code",
      "source": [
        "for x in [\"train\", \"test\"]:\n",
        "    os.makedirs(os.path.join(image_dir, x), exist_ok = True)\n",
        "    os.makedirs(os.path.join(label_dir, x), exist_ok = True)\n",
        "    os.makedirs(os.path.join(mask_dir, x), exist_ok = True)"
      ],
      "metadata": {
        "id": "ZZzferJ5JZ38"
      },
      "execution_count": null,
      "outputs": []
    },
    {
      "cell_type": "code",
      "source": [
        "def resize_mask(mask, bbox, image_shape):\n",
        "    mask = np.array(mask, dtype=np.uint8)\n",
        "\n",
        "    # absolute bounding box\n",
        "    x, y, w, h = (\n",
        "        int(bbox[0] * image_shape[1]),\n",
        "        int(bbox[1] * image_shape[0]),\n",
        "        int(bbox[2] * image_shape[1]),\n",
        "        int(bbox[3] * image_shape[0]),\n",
        "    )\n",
        "\n",
        "    mask_resized = cv2.resize(mask, (w, h), interpolation=cv2.INTER_NEAREST)\n",
        "    mask_full = np.zeros((image_shape[0], image_shape[1]), dtype=np.uint8)\n",
        "    mask_full[y:y+h, x:x+w] = mask_resized\n",
        "\n",
        "    return mask_full"
      ],
      "metadata": {
        "id": "o2TZOqtFAtnv"
      },
      "execution_count": null,
      "outputs": []
    },
    {
      "cell_type": "code",
      "source": [
        "def export_mask(mask, image_name, split):\n",
        "    mask_uint8 = (mask * 255).astype(np.uint8)\n",
        "    mask_path = os.path.join(mask_dir, split, image_name)\n",
        "    cv2.imwrite(mask_path, mask_uint8)"
      ],
      "metadata": {
        "id": "-v5Uuy4GXHL2"
      },
      "execution_count": null,
      "outputs": []
    },
    {
      "cell_type": "code",
      "source": [
        "multi_instance_count = 0\n",
        "no_instance_count = 0\n",
        "\n",
        "for i, image in enumerate(dataset):\n",
        "    image_path = image.filepath\n",
        "    image_name = os.path.basename(image_path)\n",
        "\n",
        "    split = \"train\" if (i < (TRAIN_SPLIT * DATASET_SIZE)) else \"test\"\n",
        "    export_path = os.path.join(image_dir, split, image_name)\n",
        "\n",
        "    detections = image.ground_truth.detections\n",
        "\n",
        "    # dont include multi\n",
        "    if (len(detections) > 1):\n",
        "        multi_instance_count += 1\n",
        "        continue\n",
        "\n",
        "    image_array = cv2.imread(image_path)\n",
        "    cv2.imwrite(export_path, image_array)\n",
        "\n",
        "    for detection in image.ground_truth.detections:\n",
        "        if detection.mask is not None:\n",
        "            rm = resize_mask(detection.mask, list(detection.bounding_box), image_array.shape)\n",
        "            export_mask(rm, image_name, split)\n",
        "        else:\n",
        "            no_instance_count += 1\n"
      ],
      "metadata": {
        "id": "Kq1ipH8sUZpf"
      },
      "execution_count": null,
      "outputs": []
    },
    {
      "cell_type": "code",
      "source": [
        "print(\"Images with multi instances:\", multi_instance_count)\n",
        "print(\"Images with no instances:\", no_instance_count)"
      ],
      "metadata": {
        "id": "LJm-_nGpkpyO"
      },
      "execution_count": null,
      "outputs": []
    },
    {
      "cell_type": "markdown",
      "source": [
        "## SAVE DATASET TO GOOGLE DRIVE"
      ],
      "metadata": {
        "id": "IxqCDspTUbp7"
      }
    },
    {
      "cell_type": "code",
      "source": [
        "from google.colab import drive\n",
        "drive.mount('/content/drive')"
      ],
      "metadata": {
        "id": "Ys75YnaWUgAY"
      },
      "execution_count": null,
      "outputs": []
    },
    {
      "cell_type": "code",
      "source": [
        "!scp -r /content/aircraft_export/ \"/content/drive/MyDrive/aicraft_export_3\""
      ],
      "metadata": {
        "id": "nAEYLEt6Rl6s"
      },
      "execution_count": null,
      "outputs": []
    }
  ]
}